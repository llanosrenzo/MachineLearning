{
 "cells": [
  {
   "cell_type": "markdown",
   "metadata": {},
   "source": [
    "# **Program 1**"
   ]
  },
  {
   "cell_type": "markdown",
   "metadata": {},
   "source": [
    "*Escriba un programa Python para imprimir \"Hello Python\"*"
   ]
  },
  {
   "cell_type": "code",
   "execution_count": 1,
   "metadata": {},
   "outputs": [
    {
     "name": "stdout",
     "output_type": "stream",
     "text": [
      "Hello Python\n"
     ]
    }
   ],
   "source": [
    "print('Hello Python')"
   ]
  },
  {
   "cell_type": "markdown",
   "metadata": {},
   "source": [
    "# **Program 2**"
   ]
  },
  {
   "cell_type": "markdown",
   "metadata": {},
   "source": [
    "*Escribe un programa de Python para hacer operaciones aritméticas, sumas y divisiones.*"
   ]
  },
  {
   "cell_type": "code",
   "execution_count": 4,
   "metadata": {},
   "outputs": [
    {
     "name": "stdout",
     "output_type": "stream",
     "text": [
      "El resultado de la suma 7.0 + 8.0 es: 15.0\n"
     ]
    }
   ],
   "source": [
    "# suma\n",
    "num1 = float(input('Digite el primer numeros para la suma: '))\n",
    "num2 = float(input('Digite el segundo numero para la suma: '))\n",
    "result_suma = num1 + num2\n",
    "print(f'El resultado de la suma {num1} + {num2} es: {result_suma}')"
   ]
  },
  {
   "cell_type": "code",
   "execution_count": 5,
   "metadata": {},
   "outputs": [
    {
     "name": "stdout",
     "output_type": "stream",
     "text": [
      "El resultado de la division 8.0 / 2.0 es: 4.0\n"
     ]
    }
   ],
   "source": [
    "# Division\n",
    "num1 = float(input('Digite el primer numeros para la division: '))\n",
    "num2 = float(input('Digite el segundo numero para la division: '))\n",
    "result_div = num1 / num2\n",
    "print(f'El resultado de la division {num1} / {num2} es: {result_div}')"
   ]
  },
  {
   "cell_type": "markdown",
   "metadata": {},
   "source": [
    "# **Program 3**"
   ]
  },
  {
   "cell_type": "markdown",
   "metadata": {},
   "source": [
    "*Escribe un programa de Python para encontrar el área de un triángulo.*"
   ]
  },
  {
   "cell_type": "code",
   "execution_count": 7,
   "metadata": {},
   "outputs": [
    {
     "name": "stdout",
     "output_type": "stream",
     "text": [
      "El área del triangulo es: 28.0\n"
     ]
    }
   ],
   "source": [
    "# Introduzca la base y la altura del usuario\n",
    "base = float(input('Digite la longitud de la base del triangulo: '))\n",
    "altura = float(input('Digite la longitud de la altura del triangulo: '))\n",
    "# Calcular el área del triangulo:\n",
    "area_triangulo = (base)*(altura)/2\n",
    "# Mostrar el rersultado\n",
    "print(f'El área del triangulo es: {area_triangulo}')"
   ]
  },
  {
   "cell_type": "markdown",
   "metadata": {},
   "source": [
    "# **Program 4**"
   ]
  },
  {
   "cell_type": "markdown",
   "metadata": {},
   "source": [
    "*Escriba un programa de Python para intercambiar dos variables.*"
   ]
  },
  {
   "cell_type": "code",
   "execution_count": 13,
   "metadata": {},
   "outputs": [
    {
     "name": "stdout",
     "output_type": "stream",
     "text": [
      "Los valores originales son: variable 1 = 45, variable 2 = 70\n",
      "Los intercambios de las variables son: variable 1 = 70 , variable 2 = 45\n"
     ]
    }
   ],
   "source": [
    "# Introduzca las variables\n",
    "variable1  = input('Digite la primera variable: ')\n",
    "variable2 = input('Digite la segunda variable: ')\n",
    "# Visualizacion de los valores originales\n",
    "print(f'Los valores originales son: variable 1 = {variable1}, variable 2 = {variable2}')\n",
    "# Intercambiando las variables\n",
    "temp = variable1\n",
    "variable1 = variable2\n",
    "variable2 = temp\n",
    "# Mostrando resultado\n",
    "print(f'Los intercambios de las variables son: variable 1 = {variable1} , variable 2 = {variable2}')"
   ]
  },
  {
   "cell_type": "markdown",
   "metadata": {},
   "source": [
    "# **Program 5**"
   ]
  },
  {
   "cell_type": "markdown",
   "metadata": {},
   "source": [
    "*Escribir un programa de Python para generar un número aleatorio*"
   ]
  },
  {
   "cell_type": "code",
   "execution_count": 49,
   "metadata": {},
   "outputs": [
    {
     "name": "stdout",
     "output_type": "stream",
     "text": [
      "El numero aleatorio entre 1 y 10 es : 10\n"
     ]
    }
   ],
   "source": [
    "import random\n",
    "num_aleatorio = random.randint(1,10)\n",
    "# Mostrar el numero aleatorio\n",
    "print(f'El numero aleatorio entre 1 y 10 es : {num_aleatorio}')"
   ]
  },
  {
   "cell_type": "markdown",
   "metadata": {},
   "source": [
    "# **Program 6**"
   ]
  },
  {
   "cell_type": "markdown",
   "metadata": {},
   "source": [
    "*Escribe un programa de Python para convertir kilómetros a millas.*"
   ]
  },
  {
   "cell_type": "code",
   "execution_count": 51,
   "metadata": {},
   "outputs": [
    {
     "name": "stdout",
     "output_type": "stream",
     "text": [
      "La conversion de 200.0 kilometros es igual a 124.27420000000001 miles\n"
     ]
    }
   ],
   "source": [
    "km = float(input('Digite la distancia en kilometros: '))\n",
    "#  Conversion factor: 1 kilometer = 0.621371 miles\n",
    "conv_factor = 0.621371\n",
    "\n",
    "miles = km*conv_factor\n",
    "# Mostrando la conversion a miles\n",
    "print(f'La conversion de {km} kilometros es igual a {miles} miles')"
   ]
  },
  {
   "cell_type": "markdown",
   "metadata": {},
   "source": [
    "# **Program 7**"
   ]
  },
  {
   "cell_type": "markdown",
   "metadata": {},
   "source": [
    "*Escribe un programa de Python para convertir Celsius a Fahrenheit.*"
   ]
  },
  {
   "cell_type": "code",
   "execution_count": 52,
   "metadata": {},
   "outputs": [
    {
     "name": "stdout",
     "output_type": "stream",
     "text": [
      "20.0 grados celsius es igual a 68.0 grados farenheit\n"
     ]
    }
   ],
   "source": [
    "celsius = float(input('Digite la temperatura en Celsius: '))\n",
    "# Conversion formula: Farenheit = (Celsius*9/5)+32\n",
    "farenheit = (celsius*9)/5 +32\n",
    "# Mostrar la conversion\n",
    "print(f'{celsius} grados celsius es igual a {farenheit} grados farenheit')"
   ]
  },
  {
   "cell_type": "markdown",
   "metadata": {},
   "source": [
    "# **Program 8**"
   ]
  },
  {
   "cell_type": "markdown",
   "metadata": {},
   "source": [
    "*Escriba un programa de Python para mostrar el calendario.*"
   ]
  },
  {
   "cell_type": "code",
   "execution_count": 53,
   "metadata": {},
   "outputs": [
    {
     "name": "stdout",
     "output_type": "stream",
     "text": [
      "    January 2024\n",
      "Mo Tu We Th Fr Sa Su\n",
      " 1  2  3  4  5  6  7\n",
      " 8  9 10 11 12 13 14\n",
      "15 16 17 18 19 20 21\n",
      "22 23 24 25 26 27 28\n",
      "29 30 31\n",
      "\n"
     ]
    }
   ],
   "source": [
    "import calendar\n",
    "\n",
    "year = int(input('Digite el año: '))\n",
    "month = int(input('Digite el mes : '))\n",
    "\n",
    "calendario = calendar.month(year,month)\n",
    "# Mostrar el calendario\n",
    "print(calendario)"
   ]
  },
  {
   "cell_type": "markdown",
   "metadata": {},
   "source": [
    "# **Program 9**"
   ]
  },
  {
   "cell_type": "markdown",
   "metadata": {},
   "source": [
    "*Escribe un programa de Python para resolver ecuaciones cuadráticas.*"
   ]
  },
  {
   "cell_type": "markdown",
   "metadata": {},
   "source": [
    "La forma estandar de una ecuacion cuadratica es: \n",
    "\n",
    "$$ax^2 + bx + c = 0$$\n",
    "\n",
    "donde $a,b$ y $c$ son numeros reales y $a \\neq 0$\n",
    "\n",
    "La solucion de esta ecuación cuadratica es dado por:\n",
    "\n",
    "$$\\frac{-b \\pm \\sqrt {b^2 - 4ac}}{2a}$$"
   ]
  },
  {
   "cell_type": "code",
   "execution_count": 54,
   "metadata": {},
   "outputs": [
    {
     "name": "stdout",
     "output_type": "stream",
     "text": [
      "La primera raiz es: -2.0 + 2.0i\n",
      "La segunda raiz es: -2.0 + 2.0i\n"
     ]
    }
   ],
   "source": [
    "import math\n",
    "\n",
    "# Entrada de coeficientes\n",
    "a = float(input('Digite el coeficiente (a):'))\n",
    "b = float(input('Digite el coeficiente (b): '))\n",
    "c = float(input('Digite el coeficiente (c): '))\n",
    "\n",
    "# Calcular el discriminante\n",
    "\n",
    "discriminant = b**2 -4*a*c\n",
    "\n",
    "# Compruebe si el discriminante es positivo, negativo o cero\n",
    "\n",
    "if discriminant > 0:\n",
    "    raiz1 = (-b + math.sqrt(discriminant))/(2*a)\n",
    "    raiz2 = (-b - math.sqrt(discriminant))/(2*a)\n",
    "    print(f'La primera raiz : {raiz1}')\n",
    "    print(f'La segunda raiz : {raiz2}')\n",
    "elif discriminant ==0:\n",
    "    raiz = (-b)/(2*a)\n",
    "    print(f'Las raices de la ecuacion es: {raiz}')\n",
    "else:\n",
    "    real = -b /(2*a)\n",
    "    imaginary = math.sqrt(abs(discriminant))/(2*a)\n",
    "    print(f'La primera raiz es: {real} + {imaginary}i')\n",
    "    print(f'La segunda raiz es: {real} + {imaginary}i')"
   ]
  },
  {
   "cell_type": "markdown",
   "metadata": {},
   "source": [
    "# **Program 10**"
   ]
  },
  {
   "cell_type": "markdown",
   "metadata": {},
   "source": [
    "*Escribir un programa de Python para intercambiar dos variables sin variable temporal*"
   ]
  },
  {
   "cell_type": "code",
   "execution_count": 57,
   "metadata": {},
   "outputs": [
    {
     "name": "stdout",
     "output_type": "stream",
     "text": [
      "El valor de (a) incialmente es : 47\n",
      "El valor de (b) inicialmente es : 68\n",
      "Despues del Intercambio: \n",
      "a= 68\n",
      "b= 47\n"
     ]
    }
   ],
   "source": [
    "a = input('Ingrese una variable: ')\n",
    "b = input('Ingrese una variable: ')\n",
    "print(f'El valor de (a) incialmente es : {a}')\n",
    "print(f'El valor de (b) inicialmente es : {b}')\n",
    "# Intercambio de variables\n",
    "a,b = b,a\n",
    "\n",
    "print('Despues del Intercambio: ')\n",
    "print(f'a= {a}')\n",
    "print(f'b= {b}')"
   ]
  },
  {
   "cell_type": "markdown",
   "metadata": {},
   "source": [
    "# **Program 11**"
   ]
  },
  {
   "cell_type": "markdown",
   "metadata": {},
   "source": [
    "*Escriba un programa de Python para verificar si un número es positivo, negativo o cero.*"
   ]
  },
  {
   "cell_type": "code",
   "execution_count": 60,
   "metadata": {},
   "outputs": [
    {
     "name": "stdout",
     "output_type": "stream",
     "text": [
      "El numero 58.0 es positivo.\n"
     ]
    }
   ],
   "source": [
    "num = float(input('Digite un numero: '))\n",
    "\n",
    "if num > 0:\n",
    "    print(f'El numero {num} es positivo.')\n",
    "elif num == 0:\n",
    "    print(f'El número {num} es igual a cero.')\n",
    "else:\n",
    "    print(f'El numero {num} es negativo')"
   ]
  },
  {
   "cell_type": "markdown",
   "metadata": {},
   "source": [
    "# **Program 12**"
   ]
  },
  {
   "cell_type": "markdown",
   "metadata": {},
   "source": [
    "*Escribe un programa de Python para comprobar si un número es par o impar.*"
   ]
  },
  {
   "cell_type": "code",
   "execution_count": 63,
   "metadata": {},
   "outputs": [
    {
     "name": "stdout",
     "output_type": "stream",
     "text": [
      "El número 24 es par.\n"
     ]
    }
   ],
   "source": [
    "num = int(input('Digite el numero: '))\n",
    "\n",
    "if num % 2 ==0:\n",
    "    print(f'El número {num} es par.')\n",
    "else:\n",
    "    print(f'El numero {num} es impar')"
   ]
  },
  {
   "cell_type": "markdown",
   "metadata": {},
   "source": [
    "# **Program 13**"
   ]
  },
  {
   "cell_type": "markdown",
   "metadata": {},
   "source": [
    "*Escribe un programa de Python para comprobar el año bisiesto.*"
   ]
  },
  {
   "cell_type": "code",
   "execution_count": 64,
   "metadata": {},
   "outputs": [
    {
     "name": "stdout",
     "output_type": "stream",
     "text": [
      "El año 2024 es un año bisiesto.\n"
     ]
    }
   ],
   "source": [
    "year = int(input('Ingrese el año: '))\n",
    "# Determinando si un año es un año bisiesto\n",
    "if year % 4 == 0:\n",
    "    if year % 100 == 0:\n",
    "        if year % 400 == 0:\n",
    "            print(f'El año {year} es un año bisiesto.')\n",
    "        else:\n",
    "           print(f'El año {year} no es un año bisiesto.') \n",
    "    else:\n",
    "        print(f'El año {year} es un año bisiesto.')\n",
    "else:\n",
    "    print(f'El año {year} no es un año bisiesto.')"
   ]
  },
  {
   "cell_type": "markdown",
   "metadata": {},
   "source": [
    "# **Program 14**"
   ]
  },
  {
   "cell_type": "markdown",
   "metadata": {},
   "source": [
    "*Escribir un programa de Python para comprobar el número primo*"
   ]
  },
  {
   "cell_type": "code",
   "execution_count": 12,
   "metadata": {},
   "outputs": [
    {
     "name": "stdout",
     "output_type": "stream",
     "text": [
      "1,no es un numero primo\n"
     ]
    }
   ],
   "source": [
    "numero = int(input('Ingrese un numero: '))\n",
    "#contador\n",
    "c=0\n",
    "for d in range(1,numero+1):\n",
    "    #print(d)\n",
    "    if numero % d ==0:\n",
    "        c = c+1\n",
    "if c ==2:\n",
    "    print(f'{numero}, es un numero primo')\n",
    "else:\n",
    "    print(f'{numero},no es un numero primo')"
   ]
  },
  {
   "cell_type": "markdown",
   "metadata": {},
   "source": [
    "# **Program 15**"
   ]
  },
  {
   "cell_type": "markdown",
   "metadata": {},
   "source": [
    "*Escriba un programa de Python para imprimir todos los números primos en un intervalo de 1 a 10.*"
   ]
  },
  {
   "cell_type": "code",
   "execution_count": 17,
   "metadata": {},
   "outputs": [
    {
     "name": "stdout",
     "output_type": "stream",
     "text": [
      "Los números primos es un intervalo de 1 a 10: [2, 3, 5, 7]\n"
     ]
    }
   ],
   "source": [
    "# crear una funcion de numero primo\n",
    "\n",
    "def primo(num):\n",
    "    c=0\n",
    "    for d in range(1,num+1):\n",
    "        if num % d ==0:\n",
    "            c=c+1\n",
    "    if c==2:\n",
    "        return True\n",
    "    else:\n",
    "        return False\n",
    "\n",
    "intervalo = list(range(1,11))\n",
    "lst_primo = []\n",
    "for t in intervalo:\n",
    "    if primo(t) == True:\n",
    "        #print(t)\n",
    "        lst_primo.append(t)\n",
    "\n",
    "print(f'Los números primos es un intervalo de 1 a 10: {lst_primo}')\n",
    "            "
   ]
  },
  {
   "cell_type": "markdown",
   "metadata": {},
   "source": [
    "# **Program 16**"
   ]
  },
  {
   "cell_type": "markdown",
   "metadata": {},
   "source": [
    "*Escribe un programa de Python para encontrar el factorial de un número.*"
   ]
  },
  {
   "cell_type": "code",
   "execution_count": 18,
   "metadata": {},
   "outputs": [
    {
     "name": "stdout",
     "output_type": "stream",
     "text": [
      "El factorial de 4 es 24\n"
     ]
    }
   ],
   "source": [
    "num = int(input('Ingrese un numero mayor a cero: '))\n",
    "factorial =1\n",
    "if num <0:\n",
    "    print('Factorial no existe para numeros negativos')\n",
    "elif num==0:\n",
    "    print('Factorial de 0 es 1.')\n",
    "else:\n",
    "    for i in range(1,num+1):\n",
    "        factorial = factorial*i\n",
    "    print(f'El factorial de {num} es {factorial}')"
   ]
  },
  {
   "cell_type": "markdown",
   "metadata": {},
   "source": [
    "# **Program 17**"
   ]
  },
  {
   "cell_type": "markdown",
   "metadata": {},
   "source": [
    "*Escriba un programa Python para mostrar la tabla de multiplicar.*"
   ]
  },
  {
   "cell_type": "code",
   "execution_count": 24,
   "metadata": {},
   "outputs": [
    {
     "name": "stdout",
     "output_type": "stream",
     "text": [
      "1 x 1 = 1\n",
      "1 x 2 = 2\n",
      "1 x 3 = 3\n",
      "1 x 4 = 4\n",
      "1 x 5 = 5\n",
      "1 x 6 = 6\n",
      "1 x 7 = 7\n",
      "1 x 8 = 8\n",
      "1 x 9 = 9\n",
      "2 x 1 = 2\n",
      "2 x 2 = 4\n",
      "2 x 3 = 6\n",
      "2 x 4 = 8\n",
      "2 x 5 = 10\n",
      "2 x 6 = 12\n",
      "2 x 7 = 14\n",
      "2 x 8 = 16\n",
      "2 x 9 = 18\n"
     ]
    }
   ],
   "source": [
    "for multiplicando in range(1,3):\n",
    "    for multiplicador in range(1,10):\n",
    "        producto = multiplicando*multiplicador\n",
    "        print(f'{multiplicando} x {multiplicador} = {producto}')"
   ]
  },
  {
   "cell_type": "markdown",
   "metadata": {},
   "source": [
    "# **Program 18**"
   ]
  },
  {
   "cell_type": "markdown",
   "metadata": {},
   "source": [
    "*Escribir un programa de Python para imprimir la secuencia de Fibonacci*"
   ]
  },
  {
   "cell_type": "code",
   "execution_count": 27,
   "metadata": {},
   "outputs": [
    {
     "name": "stdout",
     "output_type": "stream",
     "text": [
      "Tenemos la secuencia de Fibonacci : [0, 1, 1, 2, 3, 5, 8, 13, 21, 34]\n"
     ]
    }
   ],
   "source": [
    "nterms = int(input('¿Cuantos terminos?'))\n",
    "fibonnacci = [0,1]\n",
    "\n",
    "for f in range(2,nterms):\n",
    "    suma_fibonacci = fibonnacci[f-2]+fibonnacci[f-1]\n",
    "    fibonnacci.append(suma_fibonacci)\n",
    "print(f'Tenemos la secuencia de Fibonacci : {fibonnacci}')\n"
   ]
  },
  {
   "cell_type": "markdown",
   "metadata": {},
   "source": [
    "# **Program 19**"
   ]
  },
  {
   "cell_type": "markdown",
   "metadata": {},
   "source": [
    "*¿Escribir un programa de Python para verificar el número de Armstrong?*"
   ]
  },
  {
   "cell_type": "code",
   "execution_count": 36,
   "metadata": {},
   "outputs": [
    {
     "name": "stdout",
     "output_type": "stream",
     "text": [
      "9\n",
      "6561\n",
      "4\n",
      "6817\n",
      "7\n",
      "9218\n",
      "4\n",
      "9474\n",
      "El numero 9474 es un número Armstrong.\n"
     ]
    }
   ],
   "source": [
    "numero = int(input('Digite un numero: '))\n",
    "\n",
    "# Calcular el número de dígitos en num\n",
    "num_str = str(numero)\n",
    "num_digits = len(num_str)\n",
    "suma = 0\n",
    "for i in range(0,num_digits):\n",
    "    suma = suma + int(num_str[i])**num_digits\n",
    "    print(num_str[i])\n",
    "    print(suma)\n",
    "if suma == numero :\n",
    "    print(f'El numero {numero} es un número Armstrong.')\n",
    "else:\n",
    "    print(f'El numero {numero} no es un número Armstrong.')\n",
    "    "
   ]
  },
  {
   "cell_type": "markdown",
   "metadata": {},
   "source": [
    "# **Program 20**"
   ]
  },
  {
   "cell_type": "markdown",
   "metadata": {},
   "source": [
    "*Escribe un programa de Python para encontrar el número de Armstrong en un intervalo.*"
   ]
  },
  {
   "cell_type": "code",
   "execution_count": 39,
   "metadata": {},
   "outputs": [],
   "source": [
    "def num_armstrong(numero):\n",
    "    num_str= str(numero)\n",
    "    num_digits = len(num_str)\n",
    "    \n",
    "    suma = 0\n",
    "    for i in range(0,num_digits):\n",
    "        suma = suma + int(num_str[i])**num_digits\n",
    "    if suma == numero :\n",
    "        return True\n",
    "    else:\n",
    "        return False"
   ]
  },
  {
   "cell_type": "code",
   "execution_count": 45,
   "metadata": {},
   "outputs": [
    {
     "name": "stdout",
     "output_type": "stream",
     "text": [
      "Los numeros Armstrong del intervalo 10 y 100000 es [153, 370, 371, 407, 1634, 8208, 9474, 54748, 92727, 93084]\n"
     ]
    }
   ],
   "source": [
    "lower = int(input('Digite el limite inferior del intervalo: '))\n",
    "upper = int(input('Digite el limite superior del intervalo: '))\n",
    "list_armstrong = []\n",
    "for num in range(lower, upper+1):\n",
    "    if num_armstrong(num) == True:\n",
    "        list_armstrong.append(num)\n",
    "print(f'Los numeros Armstrong del intervalo {lower} y {upper} es {list_armstrong}')"
   ]
  },
  {
   "cell_type": "markdown",
   "metadata": {},
   "source": [
    "# **Program 21**"
   ]
  },
  {
   "cell_type": "markdown",
   "metadata": {},
   "source": [
    "*Escribe un programa de Python para encontrar la suma de números naturales*"
   ]
  },
  {
   "cell_type": "code",
   "execution_count": 47,
   "metadata": {},
   "outputs": [
    {
     "name": "stdout",
     "output_type": "stream",
     "text": [
      "La suma de numeros naturales hasta  10  es :  55\n"
     ]
    }
   ],
   "source": [
    "num = int(input('Digite el ultimo numero natural a sumar:'))\n",
    "\n",
    "# Iniciando la suma\n",
    "sum = 0\n",
    "\n",
    "for n in range(1,num+1):\n",
    "    sum = sum +n\n",
    "\n",
    "# Mostrar el resultado\n",
    "print('La suma de numeros naturales hasta ',num,' es : ',sum)"
   ]
  },
  {
   "cell_type": "markdown",
   "metadata": {},
   "source": [
    "# **Program 22**"
   ]
  },
  {
   "cell_type": "markdown",
   "metadata": {},
   "source": [
    "*Escriba un programa de Python para encontrar LCM.\n",
    "Múltiplo mínimo común (MCM):*"
   ]
  },
  {
   "cell_type": "code",
   "execution_count": 50,
   "metadata": {},
   "outputs": [],
   "source": [
    "def primo(numero):\n",
    "    \n",
    "    c=0\n",
    "    for d in range(1,numero+1):\n",
    "        #print(d)\n",
    "        if numero % d ==0:\n",
    "            c = c+1\n",
    "    if c ==2:\n",
    "        return True\n",
    "    else:\n",
    "        return False"
   ]
  },
  {
   "cell_type": "code",
   "execution_count": 53,
   "metadata": {},
   "outputs": [],
   "source": [
    "def num_primo(numero):\n",
    "    list_primo = []\n",
    "    for n in range(1,numero+1):\n",
    "        if primo(n) == True:\n",
    "            list_primo.append(n)\n",
    "    return list_primo"
   ]
  },
  {
   "cell_type": "code",
   "execution_count": 62,
   "metadata": {},
   "outputs": [
    {
     "name": "stdout",
     "output_type": "stream",
     "text": [
      "El minimo comun multiplo (M.C.M) es 60\n"
     ]
    }
   ],
   "source": [
    "import numpy as np\n",
    "num1 = int(input('Digite el primer numero: '))\n",
    "num2 = int(input('Digite el segundo numero: '))\n",
    "mcm = []\n",
    "for p in num_primo(num1*num2):\n",
    "    while (num1 % p ==0) or (num2%p==0):\n",
    "        if (num1 % p == 0) and (num2 %p ==0):\n",
    "            mcm.append(p)\n",
    "        else:\n",
    "            if (num1 % p ==0) or (num2%p==0):\n",
    "                mcm.append(p)\n",
    "        if num1 %p ==0:\n",
    "            num1 = num1/p\n",
    "        else:\n",
    "            num1 = num1\n",
    "            \n",
    "        if num2 %p == 0:\n",
    "            num2 = num2 /p\n",
    "        else :\n",
    "            num2 = num2\n",
    "\n",
    "def multiplylist(mylist):\n",
    "    result = 1\n",
    "    for x in mylist:\n",
    "        result = result*x\n",
    "    return result\n",
    "\n",
    "print('El minimo comun multiplo (M.C.M) es',multiplylist(mcm))\n"
   ]
  },
  {
   "cell_type": "markdown",
   "metadata": {},
   "source": [
    "# **Program 23**"
   ]
  },
  {
   "cell_type": "markdown",
   "metadata": {},
   "source": [
    "*Escriba un programa de Python para encontrar HCF, o Factor Común Máximo*"
   ]
  },
  {
   "cell_type": "code",
   "execution_count": 65,
   "metadata": {},
   "outputs": [
    {
     "name": "stdout",
     "output_type": "stream",
     "text": [
      "El maximo comun divisor (M.C.D) es 6\n"
     ]
    }
   ],
   "source": [
    "import numpy as np\n",
    "num1 = int(input('Digite el primer numero: '))\n",
    "num2 = int(input('Digite el segundo numero: '))\n",
    "mcm = []\n",
    "for p in num_primo(num1*num2):\n",
    "    while (num1 % p ==0) and (num2%p==0):\n",
    "        if (num1 % p == 0) and (num2 %p ==0):\n",
    "            mcm.append(p)\n",
    "        if num1 %p ==0:\n",
    "            num1 = num1/p\n",
    "        else:\n",
    "            num1 = num1\n",
    "            \n",
    "        if num2 %p == 0:\n",
    "            num2 = num2 /p\n",
    "        else :\n",
    "            num2 = num2\n",
    "\n",
    "def multiplylist(mylist):\n",
    "    result = 1\n",
    "    for x in mylist:\n",
    "        result = result*x\n",
    "    return result\n",
    "\n",
    "print('El maximo comun divisor (M.C.D) es',multiplylist(mcm))\n"
   ]
  },
  {
   "cell_type": "markdown",
   "metadata": {},
   "source": [
    "# **Program 24**"
   ]
  },
  {
   "cell_type": "markdown",
   "metadata": {},
   "source": [
    "*Escriba un programa de Python para convertir decimales a binarios, octales y hexadecimales.*"
   ]
  },
  {
   "cell_type": "code",
   "execution_count": 78,
   "metadata": {},
   "outputs": [
    {
     "name": "stdout",
     "output_type": "stream",
     "text": [
      "[11, 1] in nuevo base 16\n"
     ]
    }
   ],
   "source": [
    "# Ingrese el numero a convertir\n",
    "num = int(input('Ingrese un numero: '))\n",
    "base = int(input('Ingrese la nueva base a convertir: '))\n",
    "\n",
    "new_num = []\n",
    "while num >=1:\n",
    "    r = num % base\n",
    "    num = num // base\n",
    "    new_num.append(r)\n",
    "\n",
    "print(new_num, 'in nuevo base',base)"
   ]
  },
  {
   "cell_type": "markdown",
   "metadata": {},
   "source": [
    "# **Program 25**"
   ]
  },
  {
   "cell_type": "markdown",
   "metadata": {},
   "source": [
    "*Escriba un programa de Python para encontrar el valor ASCII de un carácter*"
   ]
  },
  {
   "cell_type": "markdown",
   "metadata": {},
   "source": [
    "ASCII, o Código Estándar Americano para el Intercambio de Información, es una codificación de caracteres\n",
    "estándar que utiliza valores numéricos para representar caracteres. Cada carácter ASCII es\n",
    "se le asignó un número binario único de 7 u 8 bits, lo que permite a las computadoras intercambiar información\n",
    "y mostrar el texto de forma coherente. Los valores ASCII oscilan entre 0 y 127 (para ASCII de 7 bits)\n",
    "o de 0 a 255 (para ASCII de 8 bits), con cada valor correspondiente a un carácter específico, como\n",
    "letras, dígitos, signos de puntuación y caracteres de control"
   ]
  },
  {
   "cell_type": "code",
   "execution_count": 81,
   "metadata": {},
   "outputs": [
    {
     "name": "stdout",
     "output_type": "stream",
     "text": [
      "El valor ASCII de P es  80\n"
     ]
    }
   ],
   "source": [
    "char = str(input('Enter the character: '))\n",
    "print('El valor ASCII de '+char+' es ',ord(char))"
   ]
  },
  {
   "cell_type": "markdown",
   "metadata": {},
   "source": []
  }
 ],
 "metadata": {
  "kernelspec": {
   "display_name": "py310",
   "language": "python",
   "name": "python3"
  },
  "language_info": {
   "codemirror_mode": {
    "name": "ipython",
    "version": 3
   },
   "file_extension": ".py",
   "mimetype": "text/x-python",
   "name": "python",
   "nbconvert_exporter": "python",
   "pygments_lexer": "ipython3",
   "version": "3.10.13"
  }
 },
 "nbformat": 4,
 "nbformat_minor": 2
}
