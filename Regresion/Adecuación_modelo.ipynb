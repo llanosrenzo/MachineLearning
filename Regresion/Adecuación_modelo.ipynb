{
 "cells": [
  {
   "cell_type": "markdown",
   "metadata": {},
   "source": [
    "# **Comprobación de la adecuación del modelo**"
   ]
  },
  {
   "cell_type": "markdown",
   "metadata": {},
   "source": [
    "## **1.1 Introducción**"
   ]
  },
  {
   "cell_type": "markdown",
   "metadata": {},
   "source": [
    "Las principales **premisas** que se han hecho hasta ahora al estudiar el análisi de regresión son las siguientes:\n",
    "\n",
    "1. La relación entre la respuesta $y$ y los regresores es lineal, al menos en forma aproximada.\n",
    "2. El término de error $\\varepsilon$ tiene media cero.\n",
    "3. El término de error $\\varepsilon$ tiene varianza $\\sigma^2$ constante.\n",
    "4. Los errores no están correlacionados.\n",
    "5. Los errores tienen distribución normal.\n",
    "\n",
    "Las grandes violaciones a las premisas pueden producir un modelo inestable, en el sentido que una muestra distinta podría conducir a un modelo totalmente diferente, y obtener conclusiones opuestas. En general, no se pueden detectar desviaciones respecto a las premisas básicas examinando los estadísticos estándar de resumen, como por ejemplo los estadísticos $t,F$ o\t$R^2$. Éstas son propiedades \"globales\" del modelo, y como tal no aseguran la adecuación del modelo.\n",
    "\n",
    "Se tiene varios métodos de utilidad para diagnosticar violaciones de las premisas básicas de regresión.Esos métodos de diagnóstico se basan principalmente en el estudio de los **residuales** del modelo."
   ]
  },
  {
   "cell_type": "markdown",
   "metadata": {},
   "source": [
    "## **1.2 Análisis de residuales**"
   ]
  },
  {
   "cell_type": "markdown",
   "metadata": {},
   "source": [
    "### **1.2.1 Definición de residuales**"
   ]
  },
  {
   "cell_type": "markdown",
   "metadata": {},
   "source": [
    "Se halla de la siguiente forma:\n",
    "\n",
    "$$e_i = y_i - \\hat{y}_i, i = 1,2,...,n \\tag{1.1}$$\n",
    "\n",
    "siendo $y_i$ una observación, y $\\hat{y}_i$ su valor ajustado correspondiente."
   ]
  },
  {
   "cell_type": "markdown",
   "metadata": {},
   "source": [
    "#### **1.2.2 Métodos para escalar residuales**"
   ]
  },
  {
   "cell_type": "markdown",
   "metadata": {},
   "source": [
    "### **1.2.3 Gráficas de residuales**"
   ]
  },
  {
   "cell_type": "markdown",
   "metadata": {},
   "source": [
    "### **1.2.4 Gráficas de regresión parcial y de residuales parciales**"
   ]
  },
  {
   "cell_type": "code",
   "execution_count": null,
   "metadata": {},
   "outputs": [],
   "source": []
  },
  {
   "cell_type": "markdown",
   "metadata": {},
   "source": [
    "## **1.3 La estadística PRESS**"
   ]
  },
  {
   "cell_type": "markdown",
   "metadata": {},
   "source": [
    "## **1.4 Detección y tratamiento de puntos atípicos**"
   ]
  },
  {
   "cell_type": "markdown",
   "metadata": {},
   "source": [
    "## **1.5 Falta de ajuste del modelo de regresión**"
   ]
  },
  {
   "cell_type": "code",
   "execution_count": null,
   "metadata": {},
   "outputs": [],
   "source": []
  }
 ],
 "metadata": {
  "language_info": {
   "name": "python"
  }
 },
 "nbformat": 4,
 "nbformat_minor": 2
}
